{
 "cells": [
  {
   "cell_type": "code",
   "execution_count": 15,
   "metadata": {
    "collapsed": false
   },
   "outputs": [
    {
     "data": {
      "text/html": [
       "<div>\n",
       "<table border=\"1\" class=\"dataframe\">\n",
       "  <thead>\n",
       "    <tr style=\"text-align: right;\">\n",
       "      <th></th>\n",
       "      <th>individialStockSum</th>\n",
       "      <th>dowJones</th>\n",
       "    </tr>\n",
       "    <tr>\n",
       "      <th>Date</th>\n",
       "      <th></th>\n",
       "      <th></th>\n",
       "    </tr>\n",
       "  </thead>\n",
       "  <tbody>\n",
       "    <tr>\n",
       "      <th>2016-10-17</th>\n",
       "      <td>2639.563333</td>\n",
       "      <td>18086.400391</td>\n",
       "    </tr>\n",
       "    <tr>\n",
       "      <th>2016-10-18</th>\n",
       "      <td>2650.596832</td>\n",
       "      <td>18161.939453</td>\n",
       "    </tr>\n",
       "    <tr>\n",
       "      <th>2016-10-19</th>\n",
       "      <td>2657.199967</td>\n",
       "      <td>18202.619141</td>\n",
       "    </tr>\n",
       "    <tr>\n",
       "      <th>2016-10-20</th>\n",
       "      <td>2652.090000</td>\n",
       "      <td>18162.349609</td>\n",
       "    </tr>\n",
       "    <tr>\n",
       "      <th>2016-10-21</th>\n",
       "      <td>2649.660001</td>\n",
       "      <td>18145.710938</td>\n",
       "    </tr>\n",
       "  </tbody>\n",
       "</table>\n",
       "</div>"
      ],
      "text/plain": [
       "            individialStockSum      dowJones\n",
       "Date                                        \n",
       "2016-10-17         2639.563333  18086.400391\n",
       "2016-10-18         2650.596832  18161.939453\n",
       "2016-10-19         2657.199967  18202.619141\n",
       "2016-10-20         2652.090000  18162.349609\n",
       "2016-10-21         2649.660001  18145.710938"
      ]
     },
     "execution_count": 15,
     "metadata": {},
     "output_type": "execute_result"
    }
   ],
   "source": [
    "from pandas import DataFrame,Series\n",
    "import pandas.io.data as web\n",
    "import datetime\n",
    "#from pandas_datareader import data, web\n",
    "\n",
    "def getPrice(start, end , company):\n",
    "    allStock = {}\n",
    "    startDate = start\n",
    "    endDate = end\n",
    "    listOfCompanies = company\n",
    "    for ticket in listOfCompanies:\n",
    "        allStock[ticket] = web.get_data_yahoo(ticket,startDate,endDate)\n",
    "    \n",
    "    price = web.DataFrame({tic:data['Adj Close'] for tic,data in allStock.iteritems()})\n",
    "    sumStock = DataFrame(data = price.sum(axis=1),columns = ['individialStockSum'])\n",
    "    sumStock['dowJones'] = Series(web.get_data_yahoo('DJIA')['Adj Close'],index = sumStock.index)\n",
    "    return sumStock\n",
    "\n",
    "cumulativeStock = getPrice('2016-10-15',datetime.datetime.now(),['AAPL','AXP','BA','CAT','CSCO','CVX','KO','DD','XOM','GE','GS','HD','IBM','INTC','JNJ','JPM','MCD',\n",
    "'MMM','MRK','MSFT','NKE','PFE','PG','TRV','UNH','UTX','V','VZ','WMT','DIS'])\n",
    "\n",
    "cumulativeStock\n",
    "# cumulativeStock = cumulativeStock.append(getPrice('2013-09-23','2015-03-18',['T','AXP','BA','CAT','CSCO','CVX','KO','DD','XOM','GE','GS','HD','IBM','INTC',\n",
    "# 'JNJ','JPM','MCD','MMM','MRK','MSFT','NKE','PFE','PG','TRV','UNH','UTX','V','VZ','WMT','DIS']))\n",
    "\n",
    "# cumulativeStock = cumulativeStock.append(getPrice('2012-09-24','2013-09-22',['AA','BAC','HPQ','T','AXP','BA','CAT','CSCO','CVX','KO','DD',\n",
    "# 'XOM','GE','HD','IBM','INTC','JNJ','JPM','MCD','MMM','MRK','MSFT','PFE','PG','TRV','UNH','UTX','VZ','WMT','DIS']))\n",
    "\n",
    "# cumulativeStock = cumulativeStock.append(getPrice('2010-01-04','2012-09-23',['AA','BAC','HPQ','T','AXP','BA','CAT','CSCO','CVX','KO','DD',\n",
    "# 'XOM','GE','HD','IBM','INTC','JNJ','JPM','MCD','MMM','MRK','MSFT','PFE','PG','TRV','UTX','VZ','WMT','DIS']))\n",
    "# #Kraft Foods Inc, KFT is not present in Yahoo Finance\n",
    "\n",
    "# cumulativeStock.sort_index(inplace=True)\n",
    "# #print (cumulativeStock)\n",
    "# #print (cumulativeStock.corr())\n",
    "\n",
    "# ## REMOVE BELOW\n",
    "# %pylab inline\n",
    "# cumulativeStock.plot()\n"
   ]
  },
  {
   "cell_type": "code",
   "execution_count": null,
   "metadata": {
    "collapsed": true
   },
   "outputs": [],
   "source": []
  },
  {
   "cell_type": "code",
   "execution_count": null,
   "metadata": {
    "collapsed": true
   },
   "outputs": [],
   "source": []
  }
 ],
 "metadata": {
  "kernelspec": {
   "display_name": "Python 2",
   "language": "python",
   "name": "python2"
  },
  "language_info": {
   "codemirror_mode": {
    "name": "ipython",
    "version": 2
   },
   "file_extension": ".py",
   "mimetype": "text/x-python",
   "name": "python",
   "nbconvert_exporter": "python",
   "pygments_lexer": "ipython2",
   "version": "2.7.11"
  }
 },
 "nbformat": 4,
 "nbformat_minor": 0
}
