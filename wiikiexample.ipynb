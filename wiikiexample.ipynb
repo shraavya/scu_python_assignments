{
 "cells": [
  {
   "cell_type": "code",
   "execution_count": 2,
   "metadata": {
    "collapsed": true
   },
   "outputs": [],
   "source": [
    "import requests\n",
    "from  lxml import html\n",
    "import re\n"
   ]
  },
  {
   "cell_type": "code",
   "execution_count": 3,
   "metadata": {
    "collapsed": false
   },
   "outputs": [],
   "source": [
    "response = requests.get(\"https://en.wikipedia.org/wiki/Dow_Jones_Industrial_Average\")"
   ]
  },
  {
   "cell_type": "code",
   "execution_count": 4,
   "metadata": {
    "collapsed": false
   },
   "outputs": [],
   "source": [
    "page = html.fromstring(response.content)"
   ]
  },
  {
   "cell_type": "code",
   "execution_count": 5,
   "metadata": {
    "collapsed": false
   },
   "outputs": [
    {
     "data": {
      "text/plain": [
       "<Element html at 0x104552940>"
      ]
     },
     "execution_count": 5,
     "metadata": {},
     "output_type": "execute_result"
    }
   ],
   "source": [
    "page"
   ]
  },
  {
   "cell_type": "code",
   "execution_count": 6,
   "metadata": {
    "collapsed": true
   },
   "outputs": [],
   "source": [
    "firstclass = page.xpath('//div[contains(@class, \"noprint\")]')"
   ]
  },
  {
   "cell_type": "code",
   "execution_count": 7,
   "metadata": {
    "collapsed": false
   },
   "outputs": [
    {
     "name": "stdout",
     "output_type": "stream",
     "text": [
      "None\n",
      "None\n",
      "\n",
      "\n"
     ]
    }
   ],
   "source": [
    "len(firstclass)\n",
    "for f in firstclass:\n",
    "    print f.text"
   ]
  },
  {
   "cell_type": "code",
   "execution_count": 8,
   "metadata": {
    "collapsed": false
   },
   "outputs": [
    {
     "data": {
      "text/plain": [
       "list"
      ]
     },
     "execution_count": 8,
     "metadata": {},
     "output_type": "execute_result"
    }
   ],
   "source": [
    "type (firstclass)"
   ]
  },
  {
   "cell_type": "code",
   "execution_count": 21,
   "metadata": {
    "collapsed": false
   },
   "outputs": [],
   "source": [
    "contents = page.xpath('//a/@href')"
   ]
  },
  {
   "cell_type": "code",
   "execution_count": 22,
   "metadata": {
    "collapsed": false
   },
   "outputs": [
    {
     "data": {
      "text/plain": [
       "889"
      ]
     },
     "execution_count": 22,
     "metadata": {},
     "output_type": "execute_result"
    }
   ],
   "source": [
    "len(contents)"
   ]
  },
  {
   "cell_type": "code",
   "execution_count": 24,
   "metadata": {
    "collapsed": false
   },
   "outputs": [
    {
     "name": "stdout",
     "output_type": "stream",
     "text": [
      "#mw-head\n",
      "#p-search\n",
      "/wiki/File:Dow_Jones_logo_2013.png\n",
      "/wiki/File:DJIA_historical_graph_to_jul11_(log).svg\n",
      "#cite_note-1\n",
      "#cite_note-djiafs-2\n",
      "/wiki/S%26P_Dow_Jones_Indices\n",
      "/wiki/Stock_exchange\n",
      "/wiki/New_York_Stock_Exchange\n",
      "/wiki/NASDAQ\n"
     ]
    }
   ],
   "source": [
    "for f in range(10):\n",
    "    print contents[f]"
   ]
  },
  {
   "cell_type": "code",
   "execution_count": 36,
   "metadata": {
    "collapsed": false
   },
   "outputs": [
    {
     "name": "stdout",
     "output_type": "stream",
     "text": [
      "#mw-head\n",
      "#p-search\n",
      "#cite_note-1\n",
      "#cite_note-djiafs-2\n",
      "#cite_note-djiafs-2\n",
      "#cite_note-3\n",
      "#Components\n",
      "#Former_components\n",
      "#History\n",
      "#Precursor\n",
      "#Initial_components\n",
      "#Early_years\n",
      "#Post-war_years\n",
      "#Dot-com_boom\n",
      "#Post_internet-bubble_era\n",
      "#Bull_market_of_2009.E2.80.93present\n",
      "#Investing\n",
      "#Exchange-traded_fund\n",
      "#Leveraged_and_short_funds\n",
      "#Futures_contracts\n",
      "#Options_contracts\n",
      "#Calculation\n",
      "#Assessment\n",
      "#Market_performance\n",
      "#Correlation_among_components\n",
      "#See_also\n",
      "#References\n",
      "#Further_reading\n",
      "#External_links\n",
      "#cite_note-4\n",
      "#cite_note-TravCiscoCitiGM-5\n",
      "#cite_note-6\n",
      "#cite_note-7\n",
      "#cite_note-8\n",
      "#cite_note-9\n",
      "#cite_note-10\n",
      "#cite_note-11\n",
      "#cite_note-12\n",
      "#cite_note-13\n",
      "#cite_note-14\n",
      "#cite_note-15\n",
      "#cite_note-16\n",
      "#cite_note-17\n",
      "#cite_note-18\n",
      "#cite_note-19\n",
      "#cite_note-20\n",
      "#cite_note-21\n",
      "#cite_note-22\n",
      "#cite_note-23\n",
      "#cite_note-24\n",
      "#cite_note-Roller-25\n",
      "#cite_note-26\n",
      "#cite_note-27\n",
      "#cite_note-28\n",
      "#cite_note-29\n",
      "#cite_note-30\n",
      "#cite_note-31\n",
      "#cite_note-32\n",
      "#cite_note-33\n",
      "#cite_note-34\n",
      "#cite_note-35\n",
      "#cite_note-36\n",
      "#cite_note-37\n",
      "#cite_note-38\n",
      "#cite_note-39\n",
      "#cite_note-40\n",
      "#cite_note-41\n",
      "#cite_note-42\n",
      "#cite_note-43\n",
      "#cite_ref-1\n",
      "#cite_ref-djiafs_2-0\n",
      "#cite_ref-djiafs_2-1\n",
      "#cite_ref-3\n",
      "#cite_ref-4\n",
      "#cite_ref-TravCiscoCitiGM_5-0\n",
      "#cite_ref-6\n",
      "#cite_ref-7\n",
      "#cite_ref-8\n",
      "#cite_ref-9\n",
      "#cite_ref-10\n",
      "#cite_ref-11\n",
      "#cite_ref-12\n",
      "#cite_ref-13\n",
      "#cite_ref-14\n",
      "#cite_ref-15\n",
      "#cite_ref-16\n",
      "#cite_ref-17\n",
      "#cite_ref-18\n",
      "#cite_ref-19\n",
      "#cite_ref-20\n",
      "#cite_ref-21\n",
      "#cite_ref-22\n",
      "#cite_ref-23\n",
      "#cite_ref-24\n",
      "#cite_ref-Roller_25-0\n",
      "#cite_ref-26\n",
      "#cite_ref-27\n",
      "#cite_ref-28\n",
      "#cite_ref-29\n",
      "#cite_ref-30\n",
      "#cite_ref-31\n",
      "#cite_ref-32\n",
      "#cite_ref-33\n",
      "#cite_ref-34\n",
      "#cite_ref-35\n",
      "#cite_ref-36\n",
      "#cite_ref-37\n",
      "#cite_ref-38\n",
      "#cite_ref-39\n",
      "#cite_ref-40\n",
      "#cite_ref-41\n",
      "#cite_ref-42\n",
      "#cite_ref-43\n",
      "#\n",
      "#\n",
      "#\n"
     ]
    }
   ],
   "source": [
    "count = 0\n",
    "for i in contents:\n",
    "    if re.findall('^#',i):\n",
    "        print i\n",
    "        count = count +1\n",
    "    \n"
   ]
  },
  {
   "cell_type": "code",
   "execution_count": 35,
   "metadata": {
    "collapsed": false
   },
   "outputs": [
    {
     "data": {
      "text/plain": [
       "116"
      ]
     },
     "execution_count": 35,
     "metadata": {},
     "output_type": "execute_result"
    }
   ],
   "source": [
    "count"
   ]
  },
  {
   "cell_type": "code",
   "execution_count": null,
   "metadata": {
    "collapsed": true
   },
   "outputs": [],
   "source": []
  }
 ],
 "metadata": {
  "kernelspec": {
   "display_name": "Python 2",
   "language": "python",
   "name": "python2"
  },
  "language_info": {
   "codemirror_mode": {
    "name": "ipython",
    "version": 2
   },
   "file_extension": ".py",
   "mimetype": "text/x-python",
   "name": "python",
   "nbconvert_exporter": "python",
   "pygments_lexer": "ipython2",
   "version": "2.7.11"
  }
 },
 "nbformat": 4,
 "nbformat_minor": 0
}
